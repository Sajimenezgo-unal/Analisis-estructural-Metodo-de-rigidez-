{
 "metadata": {
  "language_info": {
   "codemirror_mode": {
    "name": "ipython",
    "version": 3
   },
   "file_extension": ".py",
   "mimetype": "text/x-python",
   "name": "python",
   "nbconvert_exporter": "python",
   "pygments_lexer": "ipython3",
   "version": "3.7.1"
  },
  "orig_nbformat": 4,
  "kernelspec": {
   "name": "python3",
   "display_name": "Python 3.7.1 64-bit ('base': conda)"
  },
  "interpreter": {
   "hash": "a20733d2e16c949a1469d40e1adfe43a0a74d020c35bd1193ba7baa471c903e3"
  }
 },
 "nbformat": 4,
 "nbformat_minor": 2,
 "cells": [
  {
   "source": [
    "# Explicación cálculo de los desplazamientos desconocidos\n",
    "\n",
    "Considerando el siguiente problema, tenemos 4 elementos **A**, **B**, **C** y **D** los cuales tienen logitudes **LA**, **LB**, **LC** y **LD** con módulo de elasticidad **E** y módulo de inercia **I**. \n",
    "\n",
    "El elemento **A** es un elemento **tipo pila sobre fundación flexible** y el resto de los elementos son un **portico plano**  \n",
    "\n",
    "<center>\n",
    "<img src=\"Enunciado Explicación.png\" \"Enunciado\">\n",
    "</center>"
   ],
   "cell_type": "markdown",
   "metadata": {}
  },
  {
   "source": [
    "De la figura podemos ver cuales serian los desplazamientos a hallar siendo estos los siguientes:\n",
    "\n",
    "$$\n",
    "\\begin{Bmatrix}\n",
    "u_2\\\\\n",
    "v_2\\\\\n",
    "\\theta_2\\\\\n",
    "u_3\\\\\n",
    "v_3\\\\\n",
    "\\theta_3\\\\\n",
    "\\theta_4\n",
    "\\end{Bmatrix}\n",
    "$$\n",
    "\n",
    "Vemos que son 7 los desplazamientos a calcular de los cuales los de los nodos $2$ y $3$ depende de uno o mas elementos.\n",
    "\n",
    "ahora teniendo ya las matrices de en coordenadas globales para cada elemento, haciendo su debida transformación ${K_A}^{Glo}=[{T_E}^{-1}][{K_A}^{Loc}][{T_E}^{-1}]$ tenemos una matrices de $6\\times6$ las cuales en python se maneja un orden para el manejo de la matriz entera o de componente a componente, como se muestra a continuación"
   ],
   "cell_type": "markdown",
   "metadata": {}
  },
  {
   "cell_type": "code",
   "execution_count": null,
   "metadata": {},
   "outputs": [],
   "source": [
    "## importación de las librerias\n",
    "import sympy as sy\n",
    "import numpy as np\n",
    "from sympy import init_printing\n",
    "init_printing()\n",
    "\n",
    "A, B, C, D = sy.symbols('A, B, C, D')\n",
    "\n",
    "# Creación matrices de coordenadas\n",
    "\n",
    "def matrix(name):\n",
    "    KE = sy.zeros(6,6)\n",
    "    for i in range(6):\n",
    "        for j in range(6):\n",
    "            KE[i,j] = f'K_{name}({i},{j})'\n",
    "    return KE\n",
    "\n",
    "KA_index = matrix(A)\n",
    "KB_index = matrix(B)\n",
    "KC_index = matrix(C)\n",
    "KD_index = matrix(D)\n",
    "\n",
    "def vect_emp(name):\n",
    "    Vect = sy.zeros(6,1)\n",
    "    for i in range(6):\n",
    "        Vect[i,0] = f\"V{name}({i},{0})\"\n",
    "\n",
    "    return Vect\n",
    "\n",
    "VA = vect_emp(A)\n",
    "VB = vect_emp(B)\n",
    "VC = vect_emp(C)\n",
    "VD = vect_emp(D)"
   ]
  },
  {
   "source": [
    "## Sistemas de ecuaciones para cada elemento (En Coordenadas globales)"
   ],
   "cell_type": "markdown",
   "metadata": {}
  },
  {
   "cell_type": "code",
   "execution_count": null,
   "metadata": {},
   "outputs": [],
   "source": [
    "KA_index, KB_index "
   ]
  },
  {
   "cell_type": "code",
   "execution_count": null,
   "metadata": {},
   "outputs": [],
   "source": [
    "KC_index, KD_index"
   ]
  },
  {
   "source": [
    "## Vector de empotramiento para cada elemento (En Coordenadas globales)"
   ],
   "cell_type": "markdown",
   "metadata": {}
  },
  {
   "cell_type": "code",
   "execution_count": null,
   "metadata": {},
   "outputs": [],
   "source": [
    "VA, VB"
   ]
  },
  {
   "cell_type": "code",
   "execution_count": null,
   "metadata": {},
   "outputs": [],
   "source": [
    "VC, VD"
   ]
  },
  {
   "source": [
    "y se sabe que cada sistema de ecuación esta creado de la siguiente forma para cada uno de los elementos\n",
    "\n",
    "<br />\n",
    "\n",
    "$\n",
    "\\underline{\\text{Elemento A}}\n",
    "$\n",
    "\n",
    "$$\n",
    "\\begin{equation}\n",
    "\\begin{Bmatrix}\n",
    "{FX_1}^A\\\\\n",
    "{FY_1}^A\\\\\n",
    "{M_1}^A\\\\\n",
    "{FX_2}^A\\\\\n",
    "{FY_2}^A\\\\\n",
    "{M_2}^A\n",
    "\\end{Bmatrix} = \n",
    "\\begin{bmatrix}\\operatorname{K_{A}}{\\left(0,0 \\right)} & \\operatorname{K_{A}}{\\left(0,1 \\right)} & \\operatorname{K_{A}}{\\left(0,2 \\right)} & \\operatorname{K_{A}}{\\left(0,3 \\right)} & \\operatorname{K_{A}}{\\left(0,4 \\right)} & \\operatorname{K_{A}}{\\left(0,5 \\right)}\\\\\\operatorname{K_{A}}{\\left(1,0 \\right)} & \\operatorname{K_{A}}{\\left(1,1 \\right)} & \\operatorname{K_{A}}{\\left(1,2 \\right)} & \\operatorname{K_{A}}{\\left(1,3 \\right)} & \\operatorname{K_{A}}{\\left(1,4 \\right)} & \\operatorname{K_{A}}{\\left(1,5 \\right)}\\\\\\operatorname{K_{A}}{\\left(2,0 \\right)} & \\operatorname{K_{A}}{\\left(2,1 \\right)} & \\operatorname{K_{A}}{\\left(2,2 \\right)} & \\operatorname{K_{A}}{\\left(2,3 \\right)} & \\operatorname{K_{A}}{\\left(2,4 \\right)} & \\operatorname{K_{A}}{\\left(2,5 \\right)}\\\\\\operatorname{K_{A}}{\\left(3,0 \\right)} & \\operatorname{K_{A}}{\\left(3,1 \\right)} & \\operatorname{K_{A}}{\\left(3,2 \\right)} & \\operatorname{K_{A}}{\\left(3,3 \\right)} & \\operatorname{K_{A}}{\\left(3,4 \\right)} & \\operatorname{K_{A}}{\\left(3,5 \\right)}\\\\\\operatorname{K_{A}}{\\left(4,0 \\right)} & \\operatorname{K_{A}}{\\left(4,1 \\right)} & \\operatorname{K_{A}}{\\left(4,2 \\right)} & \\operatorname{K_{A}}{\\left(4,3 \\right)} & \\operatorname{K_{A}}{\\left(4,4 \\right)} & \\operatorname{K_{A}}{\\left(4,5 \\right)}\\\\\\operatorname{K_{A}}{\\left(5,0 \\right)} & \\operatorname{K_{A}}{\\left(5,1 \\right)} & \\operatorname{K_{A}}{\\left(5,2 \\right)} & \\operatorname{K_{A}}{\\left(5,3 \\right)} & \\operatorname{K_{A}}{\\left(5,4 \\right)} & \\operatorname{K_{A}}{\\left(5,5 \\right)}\\end{bmatrix} \n",
    "\\begin{Bmatrix}\n",
    "u_1\\\\\n",
    "v_1\\\\\n",
    "\\theta_1\\\\\n",
    "u_2\\\\\n",
    "v_2\\\\\n",
    "\\theta_2\n",
    "\\end{Bmatrix}+\n",
    "\\begin{Bmatrix}\\operatorname{VA}{\\left(0,0 \\right)}\\\\\\operatorname{VA}{\\left(1,0 \\right)}\\\\\\operatorname{VA}{\\left(2,0 \\right)}\\\\\\operatorname{VA}{\\left(3,0 \\right)}\\\\\\operatorname{VA}{\\left(4,0 \\right)}\\\\\\operatorname{VA}{\\left(5,0 \\right)}\n",
    "\\end{Bmatrix}\n",
    "\\end{equation}\n",
    "$$\n",
    "\n",
    "<br />\n",
    "\n",
    "$\n",
    "\\underline{\\text{Elemento B}}\n",
    "$\n",
    "\n",
    "<br />\n",
    "\n",
    "$$\n",
    "\\begin{equation}\n",
    "\\begin{Bmatrix}\n",
    "{FX_2}^B\\\\\n",
    "{FY_2}^B\\\\\n",
    "{M_2}^B\\\\\n",
    "{FX_3}^B\\\\\n",
    "{FY_3}^B\\\\\n",
    "{M_3}^B\n",
    "\\end{Bmatrix} = \n",
    "\\begin{bmatrix}\\operatorname{K_{B}}{\\left(0,0 \\right)} & \\operatorname{K_{B}}{\\left(0,1 \\right)} & \\operatorname{K_{B}}{\\left(0,2 \\right)} & \\operatorname{K_{B}}{\\left(0,3 \\right)} & \\operatorname{K_{B}}{\\left(0,4 \\right)} & \\operatorname{K_{B}}{\\left(0,5 \\right)}\\\\\\operatorname{K_{B}}{\\left(1,0 \\right)} & \\operatorname{K_{B}}{\\left(1,1 \\right)} & \\operatorname{K_{B}}{\\left(1,2 \\right)} & \\operatorname{K_{B}}{\\left(1,3 \\right)} & \\operatorname{K_{B}}{\\left(1,4 \\right)} & \\operatorname{K_{B}}{\\left(1,5 \\right)}\\\\\\operatorname{K_{B}}{\\left(2,0 \\right)} & \\operatorname{K_{B}}{\\left(2,1 \\right)} & \\operatorname{K_{B}}{\\left(2,2 \\right)} & \\operatorname{K_{B}}{\\left(2,3 \\right)} & \\operatorname{K_{B}}{\\left(2,4 \\right)} & \\operatorname{K_{B}}{\\left(2,5 \\right)}\\\\\\operatorname{K_{B}}{\\left(3,0 \\right)} & \\operatorname{K_{B}}{\\left(3,1 \\right)} & \\operatorname{K_{B}}{\\left(3,2 \\right)} & \\operatorname{K_{B}}{\\left(3,3 \\right)} & \\operatorname{K_{B}}{\\left(3,4 \\right)} & \\operatorname{K_{B}}{\\left(3,5 \\right)}\\\\\\operatorname{K_{B}}{\\left(4,0 \\right)} & \\operatorname{K_{B}}{\\left(4,1 \\right)} & \\operatorname{K_{B}}{\\left(4,2 \\right)} & \\operatorname{K_{B}}{\\left(4,3 \\right)} & \\operatorname{K_{B}}{\\left(4,4 \\right)} & \\operatorname{K_{B}}{\\left(4,5 \\right)}\\\\\\operatorname{K_{B}}{\\left(5,0 \\right)} & \\operatorname{K_{B}}{\\left(5,1 \\right)} & \\operatorname{K_{B}}{\\left(5,2 \\right)} & \\operatorname{K_{B}}{\\left(5,3 \\right)} & \\operatorname{K_{B}}{\\left(5,4 \\right)} & \\operatorname{K_{B}}{\\left(5,5 \\right)}\\end{bmatrix} \n",
    "\\begin{Bmatrix}\n",
    "u_2\\\\\n",
    "v_2\\\\\n",
    "\\theta_2\\\\\n",
    "u_3\\\\\n",
    "v_3\\\\\n",
    "\\theta_3\n",
    "\\end{Bmatrix}+\n",
    "\\begin{Bmatrix}\\operatorname{VB}{\\left(0,0 \\right)}\\\\\\operatorname{VB}{\\left(1,0 \\right)}\\\\\\operatorname{VB}{\\left(2,0 \\right)}\\\\\\operatorname{VB}{\\left(3,0 \\right)}\\\\\\operatorname{VB}{\\left(4,0 \\right)}\\\\\\operatorname{VB}{\\left(5,0 \\right)}\\end{Bmatrix}\n",
    "\\end{equation}\n",
    "$$\n",
    "\n",
    "<br />\n",
    "\n",
    "$\n",
    "\\underline{\\text{Elemento C}}\n",
    "$\n",
    "\n",
    "<br />\n",
    "\n",
    "$$\n",
    "\\begin{equation}\n",
    "\\begin{Bmatrix}\n",
    "{FX_4}^C\\\\\n",
    "{FY_4}^C\\\\\n",
    "{M_4}^C\\\\\n",
    "{FX_3}^C\\\\\n",
    "{FY_3}^C\\\\\n",
    "{M_3}^C\n",
    "\\end{Bmatrix} = \n",
    "\\begin{bmatrix}\\operatorname{K_{C}}{\\left(0,0 \\right)} & \\operatorname{K_{C}}{\\left(0,1 \\right)} & \\operatorname{K_{C}}{\\left(0,2 \\right)} & \\operatorname{K_{C}}{\\left(0,3 \\right)} & \\operatorname{K_{C}}{\\left(0,4 \\right)} & \\operatorname{K_{C}}{\\left(0,5 \\right)}\\\\\\operatorname{K_{C}}{\\left(1,0 \\right)} & \\operatorname{K_{C}}{\\left(1,1 \\right)} & \\operatorname{K_{C}}{\\left(1,2 \\right)} & \\operatorname{K_{C}}{\\left(1,3 \\right)} & \\operatorname{K_{C}}{\\left(1,4 \\right)} & \\operatorname{K_{C}}{\\left(1,5 \\right)}\\\\\\operatorname{K_{C}}{\\left(2,0 \\right)} & \\operatorname{K_{C}}{\\left(2,1 \\right)} & \\operatorname{K_{C}}{\\left(2,2 \\right)} & \\operatorname{K_{C}}{\\left(2,3 \\right)} & \\operatorname{K_{C}}{\\left(2,4 \\right)} & \\operatorname{K_{C}}{\\left(2,5 \\right)}\\\\\\operatorname{K_{C}}{\\left(3,0 \\right)} & \\operatorname{K_{C}}{\\left(3,1 \\right)} & \\operatorname{K_{C}}{\\left(3,2 \\right)} & \\operatorname{K_{C}}{\\left(3,3 \\right)} & \\operatorname{K_{C}}{\\left(3,4 \\right)} & \\operatorname{K_{C}}{\\left(3,5 \\right)}\\\\\\operatorname{K_{C}}{\\left(4,0 \\right)} & \\operatorname{K_{C}}{\\left(4,1 \\right)} & \\operatorname{K_{C}}{\\left(4,2 \\right)} & \\operatorname{K_{C}}{\\left(4,3 \\right)} & \\operatorname{K_{C}}{\\left(4,4 \\right)} & \\operatorname{K_{C}}{\\left(4,5 \\right)}\\\\\\operatorname{K_{C}}{\\left(5,0 \\right)} & \\operatorname{K_{C}}{\\left(5,1 \\right)} & \\operatorname{K_{C}}{\\left(5,2 \\right)} & \\operatorname{K_{C}}{\\left(5,3 \\right)} & \\operatorname{K_{C}}{\\left(5,4 \\right)} & \\operatorname{K_{C}}{\\left(5,5 \\right)}\\end{bmatrix} \n",
    "\\begin{Bmatrix}\n",
    "u_4\\\\\n",
    "v_4\\\\\n",
    "\\theta_4\\\\\n",
    "u_3\\\\\n",
    "v_3\\\\\n",
    "\\theta_3\n",
    "\\end{Bmatrix}+\n",
    "\\begin{Bmatrix}\\operatorname{VC}{\\left(0,0 \\right)}\\\\\\operatorname{VC}{\\left(1,0 \\right)}\\\\\\operatorname{VC}{\\left(2,0 \\right)}\\\\\\operatorname{VC}{\\left(3,0 \\right)}\\\\\\operatorname{VC}{\\left(4,0 \\right)}\\\\\\operatorname{VC}{\\left(5,0 \\right)}\\end{Bmatrix}\n",
    "\\end{equation}\n",
    "$$\n",
    "\n",
    "<br />\n",
    "\n",
    "$\n",
    "\\underline{\\text{Elemento D}}\n",
    "$\n",
    "\n",
    "<br />\n",
    "\n",
    "$$\n",
    "\\begin{equation}\n",
    "\\begin{Bmatrix}\n",
    "{FX_3}^D\\\\\n",
    "{FY_3}^D\\\\\n",
    "{M_3}^D\\\\\n",
    "{FX_5}^D\\\\\n",
    "{FY_5}^D\\\\\n",
    "{M_5}^D\n",
    "\\end{Bmatrix} = \n",
    "\\begin{bmatrix}\\operatorname{K_{D}}{\\left(0,0 \\right)} & \\operatorname{K_{D}}{\\left(0,1 \\right)} & \\operatorname{K_{D}}{\\left(0,2 \\right)} & \\operatorname{K_{D}}{\\left(0,3 \\right)} & \\operatorname{K_{D}}{\\left(0,4 \\right)} & \\operatorname{K_{D}}{\\left(0,5 \\right)}\\\\\\operatorname{K_{D}}{\\left(1,0 \\right)} & \\operatorname{K_{D}}{\\left(1,1 \\right)} & \\operatorname{K_{D}}{\\left(1,2 \\right)} & \\operatorname{K_{D}}{\\left(1,3 \\right)} & \\operatorname{K_{D}}{\\left(1,4 \\right)} & \\operatorname{K_{D}}{\\left(1,5 \\right)}\\\\\\operatorname{K_{D}}{\\left(2,0 \\right)} & \\operatorname{K_{D}}{\\left(2,1 \\right)} & \\operatorname{K_{D}}{\\left(2,2 \\right)} & \\operatorname{K_{D}}{\\left(2,3 \\right)} & \\operatorname{K_{D}}{\\left(2,4 \\right)} & \\operatorname{K_{D}}{\\left(2,5 \\right)}\\\\\\operatorname{K_{D}}{\\left(3,0 \\right)} & \\operatorname{K_{D}}{\\left(3,1 \\right)} & \\operatorname{K_{D}}{\\left(3,2 \\right)} & \\operatorname{K_{D}}{\\left(3,3 \\right)} & \\operatorname{K_{D}}{\\left(3,4 \\right)} & \\operatorname{K_{D}}{\\left(3,5 \\right)}\\\\\\operatorname{K_{D}}{\\left(4,0 \\right)} & \\operatorname{K_{D}}{\\left(4,1 \\right)} & \\operatorname{K_{D}}{\\left(4,2 \\right)} & \\operatorname{K_{D}}{\\left(4,3 \\right)} & \\operatorname{K_{D}}{\\left(4,4 \\right)} & \\operatorname{K_{D}}{\\left(4,5 \\right)}\\\\\\operatorname{K_{D}}{\\left(5,0 \\right)} & \\operatorname{K_{D}}{\\left(5,1 \\right)} & \\operatorname{K_{D}}{\\left(5,2 \\right)} & \\operatorname{K_{D}}{\\left(5,3 \\right)} & \\operatorname{K_{D}}{\\left(5,4 \\right)} & \\operatorname{K_{D}}{\\left(5,5 \\right)}\\end{bmatrix}\n",
    "\\begin{Bmatrix}\n",
    "u_3\\\\\n",
    "v_3\\\\\n",
    "\\theta_3\\\\\n",
    "u_5\\\\\n",
    "v_5\\\\\n",
    "\\theta_5\n",
    "\\end{Bmatrix}+\n",
    "\\begin{Bmatrix}\\operatorname{VD}{\\left(0,0 \\right)}\\\\\\operatorname{VD}{\\left(1,0 \\right)}\\\\\\operatorname{VD}{\\left(2,0 \\right)}\\\\\\operatorname{VD}{\\left(3,0 \\right)}\\\\\\operatorname{VD}{\\left(4,0 \\right)}\\\\\\operatorname{VD}{\\left(5,0 \\right)}\\end{Bmatrix}\n",
    "\\end{equation}\n",
    "$$\n"
   ],
   "cell_type": "markdown",
   "metadata": {}
  },
  {
   "source": [
    "Luego una vez se tienen establecidos cada uno de los sistema de ecuaciones se procede a realizar el equilibrio nodal para así determinar el sistema de ecuaciones para resolver los mismos. \n",
    "<br />\n",
    "\n",
    "$$\n",
    "\\begin{equation}\n",
    "V_ {Des} = \n",
    "\\begin{Bmatrix}\n",
    "u_2\\\\\n",
    "v_2\\\\\n",
    "\\theta_2\\\\\n",
    "u_3\\\\\n",
    "v_3\\\\\n",
    "\\theta_3\\\\\n",
    "\\theta_4\n",
    "\\end{Bmatrix}\n",
    "\\end{equation}\n",
    "$$\n",
    "\n",
    "Como se expreso anteriormente contamos con los siguientes desplazamientos desconocidos **$V_{Des}$** por lo que se debera realizar el sistema de ecuaciones en base a estos, realizando el equilibrio en cada nodo como se muestra a continuación:\n",
    "\n",
    "$$\n",
    "\\begin{equation}\n",
    "\\begin{Bmatrix}\n",
    "FX_2\\\\\n",
    "FY_2\\\\\n",
    "M_2\\\\\n",
    "FX_3\\\\\n",
    "FY_3\\\\\n",
    "M_3\\\\\n",
    "M_4\n",
    "\\end{Bmatrix} = \n",
    "\\begin{bmatrix}\n",
    "{FX_2}^{A} + {FX_2}^{B}\\\\\n",
    "{FY_2}^{A} + {FY_2}^{B}\\\\\n",
    "{M_2}^{A} + {M_2}^{B}\\\\\n",
    "{FX_3}^{B} + {FX_3}^{C} + {FX_3}^{D}\\\\\n",
    "{FY_3}^{B} + {FY_3}^{C} + {FX_3}^{D}\\\\\n",
    "{M_3}^{B} + {M_3}^{C} + {FX_3}^{D}\\\\\n",
    "{M_4}^{C}\n",
    "\\end{bmatrix}\n",
    "\\end{equation}\n",
    "$$\n",
    "\n",
    "Una vez se tiene planteado el equilibrio nodal, lo siguiente será armalo el sistema de ecuaciones en python de la siguiente manera\n",
    " \n"
   ],
   "cell_type": "markdown",
   "metadata": {}
  },
  {
   "cell_type": "code",
   "execution_count": null,
   "metadata": {},
   "outputs": [],
   "source": [
    "# haciendo uso de la función for de python iteranos las variables de a 3 cordenadas al tiempo \n",
    "for i in range(3): # i varia entre las filas de las matrices\n",
    "    for j in range(3): # j varia entre las columnas de las matrices\n",
    "        print(f\"KE[{i},{j}]\") # Ejemplo de las cordenadas i,j si se desea cambiar otras se suma al i o j según sea el caso"
   ]
  },
  {
   "source": [
    "Como lo muestra la salida vemos como iteran las coordenadas, con lo que podemos basarnos en esto para formar el sistema matricial de una manera más eficiente.\n",
    "\n",
    "A continuación se presenta la manera de como cada una de estas se formaria de tal manera que el ejemplo anterior sirve como base para generar todo el sistema de ecuaciones \n",
    "y basicamente cualquier sistema de ecuaciones en general.\n"
   ],
   "cell_type": "markdown",
   "metadata": {}
  },
  {
   "cell_type": "code",
   "execution_count": null,
   "metadata": {},
   "outputs": [],
   "source": [
    "M_des = sy.zeros(7,7)\n",
    "\n",
    "for i in range(3):\n",
    "    for j in range(3):\n",
    "\n",
    "        M_des[i,j] = KA_index[i+3,j+3] + KB_index[i,j]\n",
    "        M_des[i,j+3] = KB_index[i,j+3]\n",
    "        M_des[i+3,j] = KB_index[i+3,j]\n",
    "        M_des[i+3,j+3] = KB_index[i+3,j+3] + KC_index[i+3,j+3] + KD_index[i,j]\n",
    "        M_des[6,j+3] = KC_index[2,j+3]\n",
    "M_des[6,6] = KC_index[2,2] \n"
   ]
  },
  {
   "cell_type": "code",
   "execution_count": null,
   "metadata": {},
   "outputs": [],
   "source": [
    "M_des"
   ]
  },
  {
   "source": [
    "siguiendo en como se armo el sistema matricial anteriormente presentado se arma el vector de empotramiento"
   ],
   "cell_type": "markdown",
   "metadata": {}
  },
  {
   "cell_type": "code",
   "execution_count": null,
   "metadata": {},
   "outputs": [],
   "source": [
    "Vec_emp = sy.zeros(7,1)\n",
    "\n",
    "for i in range(3):\n",
    "    Vec_emp[i,0] = VA[i+3,0] + VB[i,0]\n",
    "    Vec_emp[i+3,0] = VB[i+3,0] + VC[i+3,0] + VD[i,0]\n",
    "Vec_emp[6,0] = VC[2,0]\n",
    "\n",
    "Vec_emp"
   ]
  },
  {
   "source": [
    "**Finalmente se llega al siguiente sistema de ecuaciones**\n",
    "\n",
    "<br />\n",
    "\n",
    "$$\n",
    "\\begin{equation}\n",
    "\\begin{Bmatrix}\n",
    "FX_2\\\\\n",
    "FY_2\\\\\n",
    "M_2\\\\\n",
    "FX_3\\\\\n",
    "FY_3\\\\\n",
    "M_3\\\\\n",
    "M_4\n",
    "\\end{Bmatrix} =\n",
    "\\begin{bmatrix}\\operatorname{K_{A}}{\\left(3,3 \\right)} + \\operatorname{K_{B}}{\\left(0,0 \\right)} & \\operatorname{K_{A}}{\\left(3,4 \\right)} + \\operatorname{K_{B}}{\\left(0,1 \\right)} & \\operatorname{K_{A}}{\\left(3,5 \\right)} + \\operatorname{K_{B}}{\\left(0,2 \\right)} & \\operatorname{K_{B}}{\\left(0,3 \\right)} & \\operatorname{K_{B}}{\\left(0,4 \\right)} & \\operatorname{K_{B}}{\\left(0,5 \\right)} & 0\\\\\\operatorname{K_{A}}{\\left(4,3 \\right)} + \\operatorname{K_{B}}{\\left(1,0 \\right)} & \\operatorname{K_{A}}{\\left(4,4 \\right)} + \\operatorname{K_{B}}{\\left(1,1 \\right)} & \\operatorname{K_{A}}{\\left(4,5 \\right)} + \\operatorname{K_{B}}{\\left(1,2 \\right)} & \\operatorname{K_{B}}{\\left(1,3 \\right)} & \\operatorname{K_{B}}{\\left(1,4 \\right)} & \\operatorname{K_{B}}{\\left(1,5 \\right)} & 0\\\\\\operatorname{K_{A}}{\\left(5,3 \\right)} + \\operatorname{K_{B}}{\\left(2,0 \\right)} & \\operatorname{K_{A}}{\\left(5,4 \\right)} + \\operatorname{K_{B}}{\\left(2,1 \\right)} & \\operatorname{K_{A}}{\\left(5,5 \\right)} + \\operatorname{K_{B}}{\\left(2,2 \\right)} & \\operatorname{K_{B}}{\\left(2,3 \\right)} & \\operatorname{K_{B}}{\\left(2,4 \\right)} & \\operatorname{K_{B}}{\\left(2,5 \\right)} & 0\\\\\\operatorname{K_{B}}{\\left(3,0 \\right)} & \\operatorname{K_{B}}{\\left(3,1 \\right)} & \\operatorname{K_{B}}{\\left(3,2 \\right)} & \\operatorname{K_{B}}{\\left(3,3 \\right)} + \\operatorname{K_{C}}{\\left(3,3 \\right)} + \\operatorname{K_{D}}{\\left(0,0 \\right)} & \\operatorname{K_{B}}{\\left(3,4 \\right)} + \\operatorname{K_{C}}{\\left(3,4 \\right)} + \\operatorname{K_{D}}{\\left(0,1 \\right)} & \\operatorname{K_{B}}{\\left(3,5 \\right)} + \\operatorname{K_{C}}{\\left(3,5 \\right)} + \\operatorname{K_{D}}{\\left(0,2 \\right)} & 0\\\\\\operatorname{K_{B}}{\\left(4,0 \\right)} & \\operatorname{K_{B}}{\\left(4,1 \\right)} & \\operatorname{K_{B}}{\\left(4,2 \\right)} & \\operatorname{K_{B}}{\\left(4,3 \\right)} + \\operatorname{K_{C}}{\\left(4,3 \\right)} + \\operatorname{K_{D}}{\\left(1,0 \\right)} & \\operatorname{K_{B}}{\\left(4,4 \\right)} + \\operatorname{K_{C}}{\\left(4,4 \\right)} + \\operatorname{K_{D}}{\\left(1,1 \\right)} & \\operatorname{K_{B}}{\\left(4,5 \\right)} + \\operatorname{K_{C}}{\\left(4,5 \\right)} + \\operatorname{K_{D}}{\\left(1,2 \\right)} & 0\\\\\\operatorname{K_{B}}{\\left(5,0 \\right)} & \\operatorname{K_{B}}{\\left(5,1 \\right)} & \\operatorname{K_{B}}{\\left(5,2 \\right)} & \\operatorname{K_{B}}{\\left(5,3 \\right)} + \\operatorname{K_{C}}{\\left(5,3 \\right)} + \\operatorname{K_{D}}{\\left(2,0 \\right)} & \\operatorname{K_{B}}{\\left(5,4 \\right)} + \\operatorname{K_{C}}{\\left(5,4 \\right)} + \\operatorname{K_{D}}{\\left(2,1 \\right)} & \\operatorname{K_{B}}{\\left(5,5 \\right)} + \\operatorname{K_{C}}{\\left(5,5 \\right)} + \\operatorname{K_{D}}{\\left(2,2 \\right)} & 0\\\\0 & 0 & 0 & \\operatorname{K_{C}}{\\left(2,3 \\right)} & \\operatorname{K_{C}}{\\left(2,4 \\right)} & \\operatorname{K_{C}}{\\left(2,5 \\right)} & \\operatorname{K_{C}}{\\left(2,2 \\right)}\\end{bmatrix}\n",
    "\\begin{Bmatrix}\n",
    "u_2\\\\\n",
    "v_2\\\\\n",
    "\\theta_2\\\\\n",
    "u_3\\\\\n",
    "v_3\\\\\n",
    "\\theta_3\\\\\n",
    "\\theta_4\n",
    "\\end{Bmatrix} + \n",
    "\\begin{Bmatrix}\\operatorname{VA}{\\left(3,0 \\right)} + \\operatorname{VB}{\\left(0,0 \\right)}\\\\\\operatorname{VA}{\\left(4,0 \\right)} + \\operatorname{VB}{\\left(1,0 \\right)}\\\\\\operatorname{VA}{\\left(5,0 \\right)} + \\operatorname{VB}{\\left(2,0 \\right)}\\\\\\operatorname{VB}{\\left(3,0 \\right)} + \\operatorname{VC}{\\left(3,0 \\right)} + \\operatorname{VD}{\\left(0,0 \\right)}\\\\\\operatorname{VB}{\\left(4,0 \\right)} + \\operatorname{VC}{\\left(4,0 \\right)} + \\operatorname{VD}{\\left(1,0 \\right)}\\\\\\operatorname{VB}{\\left(5,0 \\right)} + \\operatorname{VC}{\\left(5,0 \\right)} + \\operatorname{VD}{\\left(2,0 \\right)}\\\\\\operatorname{VC}{\\left(2,0 \\right)}\\end{Bmatrix}\n",
    "\\end{equation}\n",
    "$$"
   ],
   "cell_type": "markdown",
   "metadata": {}
  },
  {
   "source": [
    "Luego de tener ya listo el sistema de ecuaciones solo faltaria resolverlo, a continuación se muestra una de las manejas para resolverlo\n",
    "busacando en la documentación de las librerias se pueden encontrar más "
   ],
   "cell_type": "markdown",
   "metadata": {}
  },
  {
   "cell_type": "code",
   "execution_count": null,
   "metadata": {},
   "outputs": [],
   "source": [
    "# Se convierte el sistema de ecuaes originalmente de sympy a numpy ya que el metódo a utilizar (np.linalg.solve) es de esta libreria\n",
    "\n",
    "sis_Eq = np.array(M_des).astype(np.float64)\n",
    "vec_emp = np.array(-1*Vec_emp).astype(np.float64)\n",
    "\n",
    "# Aquí lo que vemos es que seria como un sistema de Ax + b = 0\n",
    "# por lo que de debera \"pasar\" el termino b en este caso el vector de empotramiento al otro lado de la ecuación \n",
    "# quedando así Ax = -b\n",
    "\n",
    "Des = np.linalg.solve(sis_Eq, vec_emp)\n"
   ]
  },
  {
   "cell_type": "code",
   "execution_count": null,
   "metadata": {},
   "outputs": [],
   "source": []
  }
 ]
}